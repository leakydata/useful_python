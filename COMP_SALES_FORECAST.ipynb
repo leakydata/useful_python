{
 "cells": [
  {
   "cell_type": "code",
   "execution_count": null,
   "id": "a0447e8d-47a9-4a0d-8b00-ae0e9b951ca2",
   "metadata": {},
   "outputs": [],
   "source": [
    "import pandas as pd\n",
    "import numpy as np\n",
    "import itertools\n",
    "\n",
    "from sklearn.metrics import mean_absolute_error\n",
    "\n",
    "from prophet import Prophet\n",
    "from prophet.plot import add_changepoints_to_plot\n",
    "from prophet.plot import plot_plotly, plot_components_plotly\n",
    "from prophet.plot import plot_cross_validation_metric\n",
    "\n",
    "from prophet.diagnostics import cross_validation\n",
    "from prophet.diagnostics import performance_metrics\n",
    "\n",
    "from matplotlib import pyplot\n",
    "\n",
    "import altair as alt\n",
    "\n",
    "from additional_holidays import holidays\n",
    "#from additional_holidays_fix import holidays\n"
   ]
  },
  {
   "cell_type": "code",
   "execution_count": null,
   "id": "bda1ec64-511e-42ee-be2d-b700efc47900",
   "metadata": {},
   "outputs": [],
   "source": [
    "df = pd.read_csv('COMP_SALES_2013-Jan102022.csv', header=0)\n",
    "df"
   ]
  },
  {
   "cell_type": "code",
   "execution_count": null,
   "id": "cc284204-5bda-49ec-a121-41fdbaba2e79",
   "metadata": {},
   "outputs": [],
   "source": [
    "df.rename(columns={'SALES_DATE': 'ds', 'NET_SALE_AMOUNT':'y'}, inplace=True)\n",
    "df = df[['ds','y']].dropna()\n",
    "df.columns = ['ds', 'y']\n",
    "df['ds']= pd.to_datetime(df['ds'])"
   ]
  },
  {
   "cell_type": "code",
   "execution_count": null,
   "id": "aed9133b-9d7e-423a-9af5-f6a817727c93",
   "metadata": {},
   "outputs": [],
   "source": [
    "df"
   ]
  },
  {
   "cell_type": "code",
   "execution_count": null,
   "id": "12c2d83b-7944-432b-bf80-26a3760b3568",
   "metadata": {},
   "outputs": [],
   "source": [
    "#df = df.loc[df['ds']>='2016-1-31']\n",
    "df = df.loc[ (df['ds'] >= '2016-1-31') & (df['ds'] <= '2021-11-30') ]\n",
    "df"
   ]
  },
  {
   "cell_type": "code",
   "execution_count": null,
   "id": "3827a610-44f4-45b2-b779-df6ccaceb869",
   "metadata": {},
   "outputs": [],
   "source": [
    "# frame up w/ grid\n",
    "pyplot.figure(figsize=(16,4))\n",
    "pyplot.grid(linestyle='-.')\n",
    "\n",
    "# sketch in data\n",
    "pyplot.plot(df.ds, df.y, 'b')\n",
    "\n",
    "# set title & labels\n",
    "pyplot.title('Daily Net Sales Amount', fontsize=18)\n",
    "pyplot.ylabel('Net Sales Amount ($)', fontsize=13)\n",
    "pyplot.xlabel('Time (year)', fontsize=13)\n",
    "\n",
    "# display graph\n",
    "pyplot.show()"
   ]
  },
  {
   "cell_type": "code",
   "execution_count": null,
   "id": "7959445b-7411-4940-84b8-6141a5601dac",
   "metadata": {},
   "outputs": [],
   "source": [
    "# Setup and create time series model\n",
    "m = Prophet(weekly_seasonality=True, yearly_seasonality=True, holidays=holidays, seasonality_mode='multiplicative')# #, holidays_prior_scale=0.5, changepoint_prior_scale=0.01, seasonality_prior_scale=5.0, # holidays_prior_scale=0.5,changepoint_prior_scale=0.01, seasonality_prior_scale=1.0\n",
    "m.fit(df) #The last day of the dataset is not complete\n",
    "\n",
    "# Create days for future prediction\n",
    "future = m.make_future_dataframe(periods=180)\n",
    "\n",
    "# Forecast\n",
    "forecast = m.predict(future)"
   ]
  },
  {
   "cell_type": "code",
   "execution_count": null,
   "id": "496a4fd4-c16f-4777-93fd-ce0f67b780a0",
   "metadata": {},
   "outputs": [],
   "source": [
    "# https://facebook.github.io/prophet/docs/trend_changepoints.html#automatic-changepoint-detection-in-prophet\n",
    "# Visualizing the locations of change points\n",
    "fig = m.plot(forecast)\n",
    "a = add_changepoints_to_plot(fig.gca(), m, forecast)"
   ]
  },
  {
   "cell_type": "code",
   "execution_count": null,
   "id": "453ac93a-d7a2-415b-938e-751539ac8c00",
   "metadata": {},
   "outputs": [],
   "source": [
    "# Interactive figure of forecast\n",
    "plot_plotly(m, forecast)"
   ]
  },
  {
   "cell_type": "code",
   "execution_count": null,
   "id": "6d589bf1-4319-47f5-a3e5-8cb1e1ed14db",
   "metadata": {},
   "outputs": [],
   "source": [
    "# Interactive figure of forecast\n",
    "plot_components_plotly(m, forecast)"
   ]
  },
  {
   "cell_type": "code",
   "execution_count": null,
   "id": "a4d45526-4560-4359-a9bd-77b5c0b39e63",
   "metadata": {},
   "outputs": [],
   "source": [
    "mask = ( forecast['ds'] >= '2021-12-01') & ( forecast['ds'] <= '2021-12-31')\n",
    "final = forecast.loc[mask][['ds','yhat']]\n",
    "final['yhat'].sum()"
   ]
  },
  {
   "cell_type": "code",
   "execution_count": null,
   "id": "ad228eb5-b9ae-4e4b-b72a-895a31823048",
   "metadata": {},
   "outputs": [],
   "source": [
    "def detect_anomalies(f):\n",
    "    forecasted = f[['ds','trend', 'yhat', 'yhat_lower', 'yhat_upper', 'fact']].copy()\n",
    "    #forecast['fact'] = df['y']\n",
    "\n",
    "    forecasted['anomaly'] = 0\n",
    "    forecasted.loc[forecasted['fact'] > forecasted['yhat_upper'], 'anomaly'] =  1\n",
    "    forecasted.loc[forecasted['fact'] < forecasted['yhat_lower'], 'anomaly'] = -1\n",
    "\n",
    "    #anomaly importances\n",
    "    forecasted['importance'] = 0\n",
    "    forecasted.loc[forecasted['anomaly'] == 1, 'importance'] = (forecasted['fact'] - forecasted['yhat_upper'])/forecast['fact']\n",
    "    forecasted.loc[forecasted['anomaly'] ==-1, 'importance'] = (forecasted['yhat_lower'] - forecasted['fact'])/forecast['fact']\n",
    "    \n",
    "    return forecasted\n",
    "\n",
    "def plot_anomalies(forecasted):\n",
    "    interval = alt.Chart(forecasted).mark_area(interpolate=\"basis\", color = '#7FC97F').encode(\n",
    "    x=alt.X('ds:T',  title ='date'),\n",
    "    y='yhat_upper',\n",
    "    y2='yhat_lower',\n",
    "    tooltip=['ds', 'fact', 'yhat_lower', 'yhat_upper']\n",
    "    ).interactive().properties(\n",
    "        title='Anomaly Detection'\n",
    "    )\n",
    "\n",
    "    fact = alt.Chart(forecasted[forecasted.anomaly==0]).mark_circle(size=15, opacity=0.7, color = 'Black').encode(\n",
    "        x='ds:T',\n",
    "        y=alt.Y('fact', title='sales'),    \n",
    "        tooltip=['ds', 'fact', 'yhat_lower', 'yhat_upper']\n",
    "    ).interactive()\n",
    "\n",
    "    anomalies = alt.Chart(forecasted[forecasted.anomaly!=0]).mark_circle(size=30, color = 'Red').encode(\n",
    "        x='ds:T',\n",
    "        y=alt.Y('fact', title='sales'),    \n",
    "        tooltip=['ds', 'fact', 'yhat_lower', 'yhat_upper','importance'],\n",
    "        size = alt.Size('importance', legend=None)\n",
    "    ).interactive()\n",
    "\n",
    "    return alt.layer(interval, fact, anomalies).properties(width=870, height=450).configure_title(fontSize=20)\n",
    "\n"
   ]
  },
  {
   "cell_type": "code",
   "execution_count": null,
   "id": "87addc7a-7173-4360-8bc1-07a77ee18000",
   "metadata": {},
   "outputs": [],
   "source": [
    "forecast['fact'] = df['y'].reset_index(drop = True)\n",
    "pred = detect_anomalies(forecast)              \n",
    "plot_anomalies(pred)"
   ]
  },
  {
   "cell_type": "code",
   "execution_count": null,
   "id": "bc68016a-be49-4e68-94a8-37f6275b989d",
   "metadata": {},
   "outputs": [],
   "source": [
    "# Create holiday dataframe of anomalies that exist and don't have infinite importance (aka distance from model boundaries)\n",
    "anomaly_df = pred.loc[(pred['anomaly']!=0) & (~np.isinf(pred['importance']))][['ds']]\n",
    "anomaly_df['holiday'] = 'anomaly'\n",
    "anomaly_df['lower_window'] = 0\n",
    "anomaly_df['upper_window'] = 0\n",
    "print(\"TOTAL ANOMALIES:\", len(anomaly_df['ds']))\n",
    "#anomaly_df"
   ]
  },
  {
   "cell_type": "code",
   "execution_count": null,
   "id": "5837a45e-6659-4278-8b0c-bb75bd0d669c",
   "metadata": {},
   "outputs": [],
   "source": [
    "# Create the anomalies holidays dataframe\n",
    "anomalies = pd.DataFrame(holidays.to_dict('records')+anomaly_df.to_dict('records'))\n",
    "#anomalies"
   ]
  },
  {
   "cell_type": "code",
   "execution_count": null,
   "id": "94be8511-2b66-435c-ba3c-f0d472668d0b",
   "metadata": {},
   "outputs": [],
   "source": [
    "# Create list of anomalies to be removed from the dataset\n",
    "remove_anomalies = pred.loc[(pred['anomaly']!=0) & (pred['importance'] >= 0.25) & (~np.isinf(pred['importance']))]['ds'].tolist()\n",
    "print(\"TOTAL ANOMALIES TO REMOVE:\", len(remove_anomalies))\n",
    "#remove_anomalies"
   ]
  },
  {
   "cell_type": "code",
   "execution_count": null,
   "id": "2c3e12ec-ca3c-45a7-93d9-10000900930b",
   "metadata": {},
   "outputs": [],
   "source": [
    "#modified_data = df.loc[(~df['ds'].isin(remove_anomalies)) & (df['ds']<='2020-2-1') | (df['ds']>='2020-12-31')] #remove anomalies and 2020 data\n",
    "modified_data = df.loc[(~df['ds'].isin(remove_anomalies)) ] #remove anomalies"
   ]
  },
  {
   "cell_type": "code",
   "execution_count": null,
   "id": "0c742026-3aba-4b9f-b7d8-27c4007c95dd",
   "metadata": {},
   "outputs": [],
   "source": [
    "# Redo the forecast model with anolies removed and added to holidays as well as removing 2020 entirely\n",
    "# Fit the model to the historical data\n",
    "anomaly_model = Prophet(weekly_seasonality=True, yearly_seasonality=True, holidays=anomalies, seasonality_mode='multiplicative',holidays_prior_scale=0.5)# #, holidays_prior_scale=0.5, changepoint_prior_scale=0.01, seasonality_prior_scale=5.0, # holidays_prior_scale=0.5,changepoint_prior_scale=0.01, seasonality_prior_scale=1.0\n",
    "anomaly_model.fit(modified_data) #df.loc[df['ds']<='2021-11-26']\n",
    "\n",
    "# Create days for future prediction\n",
    "anomaly_future = anomaly_model.make_future_dataframe(periods=180)\n",
    "\n",
    "# Forecast\n",
    "anomaly_forecast = anomaly_model.predict(anomaly_future)\n",
    "\n",
    "# https://facebook.github.io/prophet/docs/trend_changepoints.html#automatic-changepoint-detection-in-prophet\n",
    "# Visualizing the locations of change points\n",
    "fig = anomaly_model.plot(forecast)\n",
    "a = add_changepoints_to_plot(fig.gca(), anomaly_model, anomaly_forecast)"
   ]
  },
  {
   "cell_type": "code",
   "execution_count": null,
   "id": "97e79dbb-c1d4-48b3-800d-2490100afe61",
   "metadata": {},
   "outputs": [],
   "source": [
    "# Interactive figure of forecast\n",
    "plot_plotly(anomaly_model, anomaly_forecast)"
   ]
  },
  {
   "cell_type": "code",
   "execution_count": null,
   "id": "185a896e-06e2-48d0-bfbd-13a8a91a986e",
   "metadata": {},
   "outputs": [],
   "source": [
    "# Interactive figure of forecast\n",
    "plot_components_plotly(anomaly_model, anomaly_forecast)"
   ]
  },
  {
   "cell_type": "code",
   "execution_count": null,
   "id": "282adab3-0ce1-4b9d-939b-24f3a4077136",
   "metadata": {},
   "outputs": [],
   "source": [
    "mask = ( anomaly_forecast['ds'] >= '2021-11-15') & ( anomaly_forecast['ds'] <= '2021-12-1')\n",
    "final = anomaly_forecast.loc[mask][['ds','yhat']]\n",
    "final"
   ]
  },
  {
   "cell_type": "code",
   "execution_count": null,
   "id": "5f2432da-31fd-48b4-a514-32334c33546d",
   "metadata": {},
   "outputs": [],
   "source": [
    "mask = ( anomaly_forecast['ds'] >= '2021-12-01') & ( anomaly_forecast['ds'] <= '2021-12-31')\n",
    "final = anomaly_forecast.loc[mask][['ds','yhat']]\n",
    "final['yhat'].sum()"
   ]
  },
  {
   "cell_type": "code",
   "execution_count": null,
   "id": "59bad71f-9140-4d0a-ad10-58efffedfd22",
   "metadata": {},
   "outputs": [],
   "source": []
  }
 ],
 "metadata": {
  "kernelspec": {
   "display_name": "Python 3 (ipykernel)",
   "language": "python",
   "name": "python3"
  },
  "language_info": {
   "codemirror_mode": {
    "name": "ipython",
    "version": 3
   },
   "file_extension": ".py",
   "mimetype": "text/x-python",
   "name": "python",
   "nbconvert_exporter": "python",
   "pygments_lexer": "ipython3",
   "version": "3.7.11"
  }
 },
 "nbformat": 4,
 "nbformat_minor": 5
}
